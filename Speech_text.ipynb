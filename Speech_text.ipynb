{
 "cells": [
  {
   "cell_type": "code",
   "execution_count": 6,
   "metadata": {},
   "outputs": [],
   "source": [
    "import  speech_recognition as sr\n",
    "import pyttsx3"
   ]
  },
  {
   "cell_type": "code",
   "execution_count": 3,
   "metadata": {},
   "outputs": [],
   "source": [
    "def speakText(command):\n",
    "   engine = pyttsx3.init()\n",
    "   engine.say(command)\n",
    "   engine.runAndWait()\n",
    "\n",
    "\n",
    "# setting up a loop to capture the speech\n",
    "\n",
    "r = sr.Recognizer() #to recognize the speech\n",
    "\n",
    "while(1):   \n",
    "    try:\n",
    "        with sr.Microphone() as source2: #using microphone as source\n",
    "            \n",
    "            r.adjust_for_ambient_noise(source2, duration=0.2) #adjusting the noise\n",
    "            audio2 = r.listen(source2) #listening to the source\n",
    "\n",
    "            MyText = r.recognize_google(audio2) #recognizing the speech\n",
    "            MyText = MyText.lower() #converting the speech to lower case\n",
    "            print(\"Did you say: \"+MyText)\n",
    "            speakText(MyText) #speaking the recognized speech\n",
    "    except sr.RequestError as e:\n",
    "        print(\"Could not request results; {0}\".format(e))\n",
    "    except sr.UnknownValueError:\n",
    "        print(\"unknown error occured\")"
   ]
  },
  {
   "cell_type": "code",
   "execution_count": null,
   "metadata": {},
   "outputs": [],
   "source": []
  }
 ],
 "metadata": {
  "kernelspec": {
   "display_name": "Python 3",
   "language": "python",
   "name": "python3"
  },
  "language_info": {
   "codemirror_mode": {
    "name": "ipython",
    "version": 3
   },
   "file_extension": ".py",
   "mimetype": "text/x-python",
   "name": "python",
   "nbconvert_exporter": "python",
   "pygments_lexer": "ipython3",
   "version": "3.13.0"
  }
 },
 "nbformat": 4,
 "nbformat_minor": 2
}
